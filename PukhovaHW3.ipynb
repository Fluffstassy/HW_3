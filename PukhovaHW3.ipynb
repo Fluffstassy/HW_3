{
  "nbformat": 4,
  "nbformat_minor": 0,
  "metadata": {
    "colab": {
      "provenance": [],
      "collapsed_sections": [],
      "authorship_tag": "ABX9TyNM52BLDK3frl/tuH6cN1Gv",
      "include_colab_link": true
    },
    "kernelspec": {
      "name": "python3",
      "display_name": "Python 3"
    },
    "language_info": {
      "name": "python"
    }
  },
  "cells": [
    {
      "cell_type": "markdown",
      "metadata": {
        "id": "view-in-github",
        "colab_type": "text"
      },
      "source": [
        "<a href=\"https://colab.research.google.com/github/Fluffstassy/HW_3/blob/main/PukhovaHW3.ipynb\" target=\"_parent\"><img src=\"https://colab.research.google.com/assets/colab-badge.svg\" alt=\"Open In Colab\"/></a>"
      ]
    },
    {
      "cell_type": "markdown",
      "source": [
        "# Домашнее задание к лекции «Управляющие конструкции и коллекции» (часть 2)"
      ],
      "metadata": {
        "id": "yItsvGmNFcrD"
      }
    },
    {
      "cell_type": "markdown",
      "source": [
        "# Задание 1\n",
        "Дана переменная, в которой хранится словарь, содержащий гео-метки для каждого пользователя (пример структуры данных приведен ниже). Вам необходимо написать программу, которая выведет на экран множество уникальных гео-меток всех пользователей."
      ],
      "metadata": {
        "id": "CdMMw2-6ZAFk"
      }
    },
    {
      "cell_type": "code",
      "source": [
        "ids = {'user1': [213, 213, 213, 15, 213], \n",
        "       'user2': [54, 54, 119, 119, 119], \n",
        "       'user3': [213, 98, 98, 35]}\n",
        "\n",
        "geo_set = set()\n",
        "\n",
        "for geo in ids.values():\n",
        "    geo_set = geo_set.union(set(geo))\n",
        "\n",
        "print(geo_set)"
      ],
      "metadata": {
        "id": "R3ubUY8eZEOU"
      },
      "execution_count": null,
      "outputs": []
    },
    {
      "cell_type": "markdown",
      "source": [
        "# Задание 2\n",
        "Дана переменная, в которой хранится список поисковых запросов пользователя (пример структуры данных приведен ниже). Вам необходимо написать программу, которая выведет на экран распределение количества слов в запросах в требуемом виде."
      ],
      "metadata": {
        "id": "2GIdK2qvZEkx"
      }
    },
    {
      "cell_type": "code",
      "source": [
        "queries = [\n",
        "'смотреть сериалы онлайн',\n",
        "'новости спорта',\n",
        "'афиша кино',\n",
        "'курс доллара',\n",
        "'сериалы этим летом',\n",
        "'курс по питону',\n",
        "'сериалы про спорт'\n",
        "]\n",
        "\n",
        "census = []\n",
        "\n",
        "for item in queries:\n",
        "    census.append(len(item.split()))\n",
        "\n",
        "i = 1\n",
        "\n",
        "while i <= max(census):\n",
        "    if census.count(i) >0:\n",
        "        print('Поисковых запросов, содержащих', i ,'слова:', round(census.count(i)*100/len(census),2))\n",
        "    i += 1"
      ],
      "metadata": {
        "id": "lXgCcW6dZEzj"
      },
      "execution_count": null,
      "outputs": []
    },
    {
      "cell_type": "markdown",
      "source": [
        "# Задание 3\n",
        "Дана переменная, в которой хранится информация о затратах и доходе рекламных кампаний по различным источникам. Необходимо дополнить исходную структуру показателем ROI, который рассчитаем по формуле: (revenue / cost - 1) * 100"
      ],
      "metadata": {
        "id": "ZhdlwRmJZE9L"
      }
    },
    {
      "cell_type": "code",
      "source": [
        "results = {\n",
        "'vk': {'revenue': 103, 'cost': 98},\n",
        "'yandex': {'revenue': 179, 'cost': 153},\n",
        "'facebook': {'revenue': 103, 'cost': 110},\n",
        "'adwords': {'revenue': 35, 'cost': 34},\n",
        "'twitter': {'revenue': 11, 'cost': 24},\n",
        "}\n",
        "\n",
        "roi = {}\n",
        "\n",
        "for row, values in results.items():\n",
        "    roi.update({row:{'revenue':values['revenue'], 'cost':values['cost'], 'ROI':round((values['revenue'] / values['cost'] - 1) * 100, 2)}})\n",
        "\n",
        "roi"
      ],
      "metadata": {
        "id": "T1XzmakFZFFa"
      },
      "execution_count": null,
      "outputs": []
    },
    {
      "cell_type": "markdown",
      "source": [
        "# Задание 4\n",
        "Дана переменная, в которой хранится статистика рекламных каналов по объемам продаж (пример структуры данных приведен ниже). Напишите программу, которая возвращает название канала с максимальным объемом продаж."
      ],
      "metadata": {
        "id": "zCyoxaquZFNJ"
      }
    },
    {
      "cell_type": "code",
      "source": [
        "stats = {'facebook': 55, 'yandex': 115, 'vk': 120, 'google': 99, 'email': 42, 'ok': 98}\n",
        "\n",
        "for channel, amount in stats.items():\n",
        "     if amount == max(list(stats.values())):\n",
        "         print('Максимальный объем продаж на рекламном канале:',channel)"
      ],
      "metadata": {
        "id": "T3GR4Cz8ZFVS"
      },
      "execution_count": null,
      "outputs": []
    }
  ]
}